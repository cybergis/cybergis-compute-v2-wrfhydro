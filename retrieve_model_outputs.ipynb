{
 "cells": [
  {
   "cell_type": "code",
   "execution_count": null,
   "id": "58702be8-6236-406a-aec6-e09e72561c71",
   "metadata": {},
   "outputs": [],
   "source": [
    "# change job_id\n",
    "job_id = \"XXXXXXXXXXX\""
   ]
  },
  {
   "cell_type": "code",
   "execution_count": null,
   "id": "f086fef8-1a8b-49b5-a8f6-660a83c3afe1",
   "metadata": {},
   "outputs": [],
   "source": [
    "# import Compute-SDK and establish connection to Compute service\n",
    "from cybergis_compute_client import CyberGISCompute\n",
    "cybergis = CyberGISCompute(url=\"cgjobsup.cigi.illinois.edu\", isJupyter=True, protocol=\"HTTPS\", port=443, suffix=\"v2\")"
   ]
  },
  {
   "cell_type": "code",
   "execution_count": null,
   "id": "cc8fae0a-037a-4c0c-9e59-c69d3634848b",
   "metadata": {},
   "outputs": [],
   "source": [
    "job = cybergis.get_job_by_id(job_id)\n",
    "local_resultFolder = job.status(raw=True)[\"resultFolder\"]\n",
    "job.events()"
   ]
  },
  {
   "cell_type": "code",
   "execution_count": null,
   "id": "38951955-18b2-4bb3-af21-9d59b664f4a7",
   "metadata": {},
   "outputs": [],
   "source": [
    "# List model result folders on HPC\n",
    "job.result_folder_content()"
   ]
  },
  {
   "cell_type": "code",
   "execution_count": null,
   "id": "c92519fd-3c53-4f3d-b3f5-3e1b9a75b2d0",
   "metadata": {},
   "outputs": [],
   "source": [
    "# Select one model result folder to download\n",
    "# By default we only download \"/slurm_log\"\n",
    "# Change here to download a different result folder\n",
    "model_result_folder = \"/slurm_log\""
   ]
  },
  {
   "cell_type": "code",
   "execution_count": null,
   "id": "24e40cbd-7439-415e-8ee7-2d2136be827a",
   "metadata": {},
   "outputs": [],
   "source": [
    "# start downloading\n",
    "job.download_result_folder(localPath=local_resultFolder, remotePath=model_result_folder)"
   ]
  },
  {
   "cell_type": "code",
   "execution_count": null,
   "id": "91881c65-1532-4b6c-8a77-bd698b56fc3f",
   "metadata": {},
   "outputs": [],
   "source": [
    "print(\"Selected model results have been downloaded to: {}\".format(local_resultFolder.split(\"notebook_home_data\")[1].split(\"/\")[-1]))"
   ]
  }
 ],
 "metadata": {
  "kernelspec": {
   "display_name": "WRFHydro-2022-03",
   "language": "python",
   "name": "wrfhydro-2022-03"
  },
  "language_info": {
   "codemirror_mode": {
    "name": "ipython",
    "version": 3
   },
   "file_extension": ".py",
   "mimetype": "text/x-python",
   "name": "python",
   "nbconvert_exporter": "python",
   "pygments_lexer": "ipython3",
   "version": "3.7.9"
  }
 },
 "nbformat": 4,
 "nbformat_minor": 5
}
