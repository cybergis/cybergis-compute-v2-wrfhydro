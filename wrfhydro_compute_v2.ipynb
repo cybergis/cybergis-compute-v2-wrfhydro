{
 "cells": [
  {
   "cell_type": "markdown",
   "id": "5215e8a8-e497-4a0f-8ee1-877e5df85a88",
   "metadata": {
    "tags": []
   },
   "source": [
    "# Run WRFHydro model on HPC resources using CyberGIS-Compute V2"
   ]
  },
  {
   "cell_type": "markdown",
   "id": "503439ee-a277-4b46-a152-1f853f2f9aed",
   "metadata": {},
   "source": [
    "**(<span style=\"color: red\"> This notebook requires user interaction. Please 'Run Cell by Cell'. 'Run All' may cause errors. </span>)**\n",
    "\n",
    "This notebook demonstrates how to prepare a WRFHydro model on CyberGIS-Jupyter for Water (CJW) for execution on a supported High-Performance Computing (HPC) resource via the CyberGIS-Compute service. First-time users are highly encouraged to go through the [NCAR WRFHydro Hands-on Training on CJW](https://www.hydroshare.org/resource/d2c6618090f34ee898e005969b99cf90/) to get familiar WRFHydro model basics including compilation of source code, preparation of forcing data and typical model configurations. This notebook will not cover those topics and assume users already have hands-on experience with local model runs.\n",
    "\n",
    "CyberGIS-Compute is a CyberGIS-enabled web service sits between CJW and HPC resources. It acts as a middleman that takes user requests (eg. submission of a model) originated from CJW, carries out the actual job submission of model on the target HPC resource, monitors job status, and retrieves outputs when the model execution has completed. The functionality of CyberGIS-Compute is exposed as a series of REST APIs. A Python client, [CyberGIS-Compute SDK](https://github.com/cybergis/cybergis-compute-python-sdk), has been developed for use in the CJW environment that provides a simple GUI to guide users through the job submission process. Prior to job submission, model configuration and input data should be prepared and arranged in a certain way that meets specific requirements, which vary by models and their implementation in CyberGIS-Compute. We will walk through the requirements for WRFHydro below.\n",
    "\n",
    "The general workflow for WRFHydro in CyberGIS-Compute works as follows:\n",
    "\n",
    "1. User picks a Model_Version of WRFHydro to use;\n",
    "2. User prepares configuration files and data for the model on CJW;\n",
    "3. User submits configuration files and data to CyberGIS-Compute;\n",
    "4. CyberGIS-Compute transfers configuration files and data to target HPC;\n",
    "5. CyberGIS-Compute downloads the chosen Model_Version of WRFhydro codebase on HPC;\n",
    "6. CyberGIS-Compute applies compile-time configuration files to the codebase, and compiles the source code on the fly;\n",
    "7. CyberGIS-Compute applies run-time configuration files and data to the model;\n",
    "8. CyberGIS-Compute submits the model job to HPC scheduler for model execution;\n",
    "9. CyberGIS-Compute monitors job status;\n",
    "10. CyberGIS-Compute transfers model outputs from HPC to CJW upon user request;\n",
    "11. User performs post-processing work on CJW;\n",
    "\n",
    "Current implementation for WRFHydro in CyberGIS-Compute is compatible with WRFHydro 5.x official releases hosted on the NCAR github repo (https://github.com/NCAR/wrf_hydro_nwm_public). It requires users to provide configurations & data in 3 categories: **compile-time configuration, run-time configuration, and model data**. The following table lists details for each category. **For more in-depth description on each configuration and data file, please refer to the official [WRFHydro Technical Documention](https://ral.ucar.edu/projects/wrf_hydro/technical-description-user-guide) at NCAR**.\n",
    "\n",
    "| Category   |      Parameter/Configuration/Data     | Required|  Comments | Submission|\n",
    "|:----------|-------------:|:-----:|------:|--:|\n",
    "| Compile-Time |  Model_Version (string) | Y |release, tag, branch or commit id from [WRFHydro official repo](https://github.com/NCAR/wrf_hydro_nwm_public) | GUI or API |\n",
    "| Compile-Time |   \"setEnvar.sh\" (file)          | Y |[example \"setEnvar.sh\"](https://github.com/NCAR/wrf_hydro_nwm_public/blob/refs/tags/v5.2.0/trunk/NDHMS/template/setEnvar.sh)  | Upload_Folder|\n",
    "| Compile-Time |   LSM_Type  (string)      |   Y |\"NoahMP\" (default) or \"Noah\" | GUI or API |\n",
    "| Run-Time |  \"namelist.hrldas\" (file) |   Y | [example \"namelist.hrldas\" for LSM_Type=\"NoahMP\"](https://github.com/NCAR/wrf_hydro_nwm_public/blob/refs/tags/v5.2.0/trunk/NDHMS/template/NoahMP/namelist.hrldas) | Upload_Folder|\n",
    "| Run-Time |  \"hydro.namelist\" (file) |   Y | [example \"hydro.namelist\"](https://github.com/NCAR/wrf_hydro_nwm_public/blob/refs/tags/v5.2.0/trunk/NDHMS/template/HYDRO/hydro.namelist) |Upload_Folder|\n",
    "| Model Data | \"DOMAIN\" (folder)|  Y | contain domain files | Upload_Folder |\n",
    "| Model Data | \"FORCING\" (folder) |  Y | contain forcing files | Upload_Folder|\n",
    "| Model Data | \"RESTART\" (folder)|  N | contain restart files | Upload_Folder|\n",
    "\n",
    "As listed above, the items marked as \"GUI or API\" under \"Submission\" should be provided to the job submission GUI, and the ones marked as \"Upload_Foler\" should be put in a local folder that will be submitted to HPC through the CyberGIS-Compute.\n",
    "\n",
    "Since WRFHydro codebase has been under active development, \"mix-matching\" configuration files or data that are made for different WRFHydro versions may cause model failure and/or tricky issues. For example, the file 'namelist.hrldas' from Version_A may not work with WRFHydro Version_B, or some domain files worked with WRFHydro 5.0 may not work with WRFHydro 5.2. **<span style=\"color: red\"> User should make sure the configuration files and data provided are compatible with the chosen Model_Version of WRFHydro codebase.</span>** An quick way to check the compatibility  would be try out a small-scale local run on CJW. Please refer to [NCAR WRFHydro Hands-on Training on CJW](https://www.hydroshare.org/resource/d2c6618090f34ee898e005969b99cf90/) for examples.  We highly recommend the \"test small first\" approach before submitting  any job to HPC using CyberGIS-Compute.\n",
    "\n",
    "In this demo, we will use the testcase (Croton, NY) shipped with [WRFHydro v5.2.0](https://github.com/NCAR/wrf_hydro_nwm_public/releases/tag/v5.2.0) official release (Dec, 2021), which guarantees the compatibility between model codebase and data/parameters. Here is a [resource on HydroShare](https://www.hydroshare.org/resource/f2632892a18a4aafaa5b540db6403046/) that serves as a backup source in case the github release gets changed or removed in the future (possible but unlikely).\n",
    "\n",
    "<img src=\"statics/release_v520.png\" width=\"600\">\n",
    "\n",
    "FYI: The support for WRFHydro model in CyberGIS-Compute is added through the \"community contribution\" approach (introduced in CyberGIS-Compute V2), and the implementation can be accessible at https://github.com/cybergis/cybergis-compute-v2-wrfhydro. This work is based on a close collaboration between [CyberGIS Center](https://cybergis.illinois.edu/) at UIUC and [Dr. Ayman Nassar](https://uwrl.usu.edu/people/research-staff/nassar-ayman) at Utah Water Research Laboratory, USU under the [HydroShare](https://www.hydroshare.org/) project."
   ]
  },
  {
   "cell_type": "markdown",
   "id": "ad0e1628-5be8-45bc-99e4-b552574cb3fd",
   "metadata": {},
   "source": [
    "## Setup workspace"
   ]
  },
  {
   "cell_type": "markdown",
   "id": "7c54919d-4d89-4dae-b0d3-460439bc79b3",
   "metadata": {},
   "source": [
    "We are creating necessary working folders (and removing existing ones to support repeated runs). "
   ]
  },
  {
   "cell_type": "code",
   "execution_count": null,
   "id": "338171b7-1cb5-4711-9f93-2a09e8762f41",
   "metadata": {},
   "outputs": [],
   "source": [
    "# scratch folder to hold codebase and testcase data\n",
    "scratch_folder = \"./scratch\"\n",
    "# upload_folder to hold data and files that will be submitted to HPC through CyberGIS-Compute\n",
    "upload_folder = \"./upload2hpc\""
   ]
  },
  {
   "cell_type": "code",
   "execution_count": null,
   "id": "efff1def-98e5-4d54-a557-80d2693f6c6d",
   "metadata": {},
   "outputs": [],
   "source": [
    "# create folders (and remove old ones if exist)\n",
    "!rm -rf {scratch_folder} && mkdir -p {scratch_folder}\n",
    "!rm -rf {upload_folder} && mkdir -p {upload_folder}"
   ]
  },
  {
   "cell_type": "markdown",
   "id": "92044b47-df19-40d1-9db0-192fc8edcd41",
   "metadata": {},
   "source": [
    "## Compile-Time configuration (Model_Version=v5.2.0)"
   ]
  },
  {
   "cell_type": "markdown",
   "id": "3db44764-fcea-4eca-bc7f-7104d2e2c876",
   "metadata": {},
   "source": [
    "We clone the WRFHydro source code repo to scratch_folder and checkout codebase to version \"v5.2.0\" (Model_Version). This version matches the Croton, NY testcase data we will be using. And we will should set this version number in the job submission GUI later. \n",
    "\n",
    "The reason we downloads the source code is we want to get a copy of the Compile-Time configuration file \"setEnvar.sh\" that matches the chosen version (v5.2.0)."
   ]
  },
  {
   "cell_type": "code",
   "execution_count": null,
   "id": "063235d8-267a-4ac8-aa7f-ca245b98fc73",
   "metadata": {},
   "outputs": [],
   "source": [
    "# remove old repos (if exists)\n",
    "!rm -rf {scratch_folder}/wrf_hydro_nwm_public\n",
    "# clone WRFHydro repo and checkout version \"v5.2.0\"\n",
    "!git clone -b v5.2.0 https://github.com/NCAR/wrf_hydro_nwm_public.git {scratch_folder}/wrf_hydro_nwm_public"
   ]
  },
  {
   "cell_type": "markdown",
   "id": "2ebc35ec-5100-42a0-96cb-9f44ac94afe6",
   "metadata": {},
   "source": [
    "## Compile-Time configuration (\"setEnvar.sh\")"
   ]
  },
  {
   "cell_type": "markdown",
   "id": "e1192f18-9bab-4d55-bf84-b03ae0f354ea",
   "metadata": {},
   "source": [
    "Here we prepare the Compile-Time configuration file \"setEnvar.sh\". We first make a copy on the original \"setEnvar.sh\" from the WRFHydro codebase, and save it to upload_folder. You may go ahead and change the \"setEnvar.sh\" file as needed here.\n",
    "\n",
    "In this particular case, we will follow the **Lesson 1** from the [NCAR WRFHydro Hands-on Training on CJW](https://www.hydroshare.org/resource/d2c6618090f34ee898e005969b99cf90/) to enable HYDRO_D and SPATIAL_SOIL flags."
   ]
  },
  {
   "cell_type": "code",
   "execution_count": null,
   "id": "e389882d-7fec-4bfa-b834-a01d09e31ecd",
   "metadata": {},
   "outputs": [],
   "source": [
    "# copy original \"setEnvar.sh\" to {upload_folder}\n",
    "!cp -f {scratch_folder}/wrf_hydro_nwm_public/trunk/NDHMS/template/setEnvar.sh {upload_folder}\n",
    "!ls {upload_folder} -l"
   ]
  },
  {
   "cell_type": "code",
   "execution_count": null,
   "id": "8cc178ec-2dde-41fe-9d60-7cc04e016994",
   "metadata": {},
   "outputs": [],
   "source": [
    "# Edit \"setEnvar.sh\" to enable flags for HYDRO_D and SPATIAL_SOIL\n",
    "!sed -i 's/HYDRO_D=0/HYDRO_D=1/'  {upload_folder}/setEnvar.sh\n",
    "!sed -i 's/SPATIAL_SOIL=0/SPATIAL_SOIL=1/' {upload_folder}/setEnvar.sh\n",
    "!cat {upload_folder}/setEnvar.sh"
   ]
  },
  {
   "cell_type": "markdown",
   "id": "f2a3f6e9-52e4-4f2d-b28c-ed0829fa83ac",
   "metadata": {},
   "source": [
    "## Retrieve testcase (Croton,NY) data"
   ]
  },
  {
   "cell_type": "markdown",
   "id": "175b590c-6db2-4fe8-994b-44c10d6801f7",
   "metadata": {},
   "source": [
    "We download the Croton, NY testcase made for WRFHydro v5.2.0 from NCAR repo and unzip it to scratch_folder"
   ]
  },
  {
   "cell_type": "code",
   "execution_count": null,
   "id": "a99aa3c1-0654-4b27-a0d3-f3ad1c9c7ffd",
   "metadata": {},
   "outputs": [],
   "source": [
    "!rm -rf {scratch_folder}/*.tar.gz {scratch_folder}/example_case\n",
    "!wget https://github.com/NCAR/wrf_hydro_nwm_public/releases/download/v5.2.0/croton_NY_training_example_v5.2.tar.gz -P {scratch_folder}\n",
    "!cd {scratch_folder} && tar xzf croton_NY_training_example_v5.2.tar.gz"
   ]
  },
  {
   "cell_type": "markdown",
   "id": "285a5066-81ac-4cd8-bf20-9652553c30de",
   "metadata": {},
   "source": [
    "## Run-Time configurations (\"namelist.hrldas\", \"hydro.namelist\") \n",
    "## & Model Data (\"DOMAIN\", \"RESTART\")"
   ]
  },
  {
   "cell_type": "markdown",
   "id": "306684f9-ceea-4d25-a3c1-3505b653e8e9",
   "metadata": {},
   "source": [
    "In this specific case, we follow the **Lession 2** from the [NCAR WRFHydro Hands-on Training on CJW](https://www.hydroshare.org/resource/d2c6618090f34ee898e005969b99cf90/) to set up a *Gridded* model. Users are encouraged to try out other model configurations such *National Water Model (NWM)* and *Reach*.\n",
    "\n",
    "The testcase for *Gridded* model already provides 2 required Run-Time configuration files (\"namelist.hrldas\", \"hydro.namelist\"),  1 required Model Data - \"DOMAIN\" and 1 optional Model Data - \"RESTART\". We copy them over the upload_folder.\n",
    "\n",
    "FYI, [CUAHSI Domain Subsetter](https://subset.cuahsi.org/) allows you subset different versions of domain files for NWM configurations."
   ]
  },
  {
   "cell_type": "code",
   "execution_count": null,
   "id": "f9ed243d-f383-4c62-9094-412f351edc60",
   "metadata": {},
   "outputs": [],
   "source": [
    "# list data for Gridded configuration\n",
    "!ls {scratch_folder}/example_case/Gridded -l"
   ]
  },
  {
   "cell_type": "code",
   "execution_count": null,
   "id": "64edd796-ac93-4f02-9cd4-c29bc0e560d9",
   "metadata": {},
   "outputs": [],
   "source": [
    "# copy both Run-Time configuration files and Model Data to upload_folder\n",
    "!cp -rf {scratch_folder}/example_case/Gridded/* {upload_folder}\n",
    "!ls {upload_folder} -l"
   ]
  },
  {
   "cell_type": "markdown",
   "id": "bae55a4e-94d1-46f0-9047-74cb131296d5",
   "metadata": {},
   "source": [
    "## Model Data (\"FORCING\")"
   ]
  },
  {
   "cell_type": "markdown",
   "id": "4f742421-8e5c-4091-9886-fff91dbedcb3",
   "metadata": {},
   "source": [
    "Here we copy the last required Model Data - \"FORCING\" from the testcase directory to the upload_folder.  At this point, we have all required Run-Time configuration files and Model Data ready at upload_folder. "
   ]
  },
  {
   "cell_type": "code",
   "execution_count": null,
   "id": "10eb3b0c-1cf6-4e00-93e7-7e3597e17b12",
   "metadata": {},
   "outputs": [],
   "source": [
    "# copy over FORCING data\n",
    "!cp -rf {scratch_folder}/example_case/FORCING {upload_folder}\n",
    "!ls {upload_folder} -l"
   ]
  },
  {
   "cell_type": "markdown",
   "id": "1240c3e0-742c-4f74-9a4c-e6738856a5c2",
   "metadata": {},
   "source": [
    "## Job Submission"
   ]
  },
  {
   "cell_type": "markdown",
   "id": "cef09a1a-431c-4a23-95fa-c270c3533014",
   "metadata": {},
   "source": [
    "Here we are about to use CyberGIS-Compute SDK to submit the configured WRFHydro model to a HPC resource. We first establish a connection to the CyberGIS-Compute service and get a \"cybergis\" object. "
   ]
  },
  {
   "cell_type": "code",
   "execution_count": null,
   "id": "d82f51ae-e914-4e5d-a250-640e14da85fe",
   "metadata": {},
   "outputs": [],
   "source": [
    "# import Compute-SDK and establish connection to Compute service\n",
    "from cybergis_compute_client import CyberGISCompute\n",
    "cybergis = CyberGISCompute(url=\"cgjobsup.cigi.illinois.edu\", isJupyter=True, protocol=\"HTTPS\", port=443, suffix=\"v2\")"
   ]
  },
  {
   "cell_type": "markdown",
   "id": "b9baa656-1879-4f87-abcc-0bd138f7fe0c",
   "metadata": {},
   "source": [
    "Call fucntion cybergis.create_job_by_ui() to show the job submission GUI, where job type is set to \"wrfhydro-5.x\" and we want to upload some data from upload_folder which contains \"setEnvar.sh\", \"namelist.hrldas\", \"hydro.namelist\", \"DOMAIN\", \"RSTART\" and \"FORCING\". You may have noticed there are 2 parameters still missing according to the table above: \"Model_Version\" and \"LSM_Type\". We will set them on the job submission GUI under section \"Input Parameters\". In this case, Model_Version should be \"v5.2.0\" and LSM_Type should be \"NoahMP\".\n",
    "\n",
    "There are some optional settings you may want to tweak with. For example, you may choose target Computing Resource between \"keeling_community\" (a HPC hosted also known [\"Virtual Roger\"](https://cybergis.illinois.edu/infrastructures/) hosted at UIUC)  and \"expanse_community\" (a XSEDE HPC resource hosted at SDSC).\n",
    "\n",
    "Once job is submitted, the job status is updated on the tabpage \"Your Job Status\". When job has finished, you could download results back from HPC under the \"Download Job Results\" tabpage. "
   ]
  },
  {
   "cell_type": "code",
   "execution_count": null,
   "id": "ba319853-6d4f-4bf8-8d36-7c500ab6194e",
   "metadata": {},
   "outputs": [],
   "source": [
    "# display job submission GUI;\n",
    "cybergis.create_job_by_ui(defaultJob=\"wrfhydro-5.x\", defaultDataFolder=upload_folder)"
   ]
  },
  {
   "cell_type": "markdown",
   "id": "0dfca0bb-1952-49e5-ab0d-223f83730f8d",
   "metadata": {},
   "source": [
    "## Check out model outputs"
   ]
  },
  {
   "cell_type": "markdown",
   "id": "f72d9290-3e0f-4fd3-999c-9afcf0a451d0",
   "metadata": {},
   "source": [
    "Here we take a quick look at the model outputs."
   ]
  },
  {
   "cell_type": "code",
   "execution_count": null,
   "id": "c71da212-4d85-4083-9bba-f7003b45634d",
   "metadata": {},
   "outputs": [],
   "source": [
    "!echo {cybergis.recentDownloadPath}/Simulation"
   ]
  },
  {
   "cell_type": "code",
   "execution_count": null,
   "id": "cd9c843e-5201-415e-b19f-5fed8dff2ec8",
   "metadata": {
    "scrolled": true,
    "tags": []
   },
   "outputs": [],
   "source": [
    "!ls {cybergis.recentDownloadPath}/Simulation"
   ]
  },
  {
   "cell_type": "markdown",
   "id": "d350b5f4-b9dc-43e4-9127-33a6cc1d69f1",
   "metadata": {},
   "source": [
    "## Visualization"
   ]
  },
  {
   "cell_type": "markdown",
   "id": "21070b40-0a2c-44c1-9a19-dc49de03f293",
   "metadata": {},
   "source": [
    "For a quick demo, we just plot hydrograph for 1 gauge point as what is presented in **Lesson 3** from the [NCAR WRFHydro Hands-on Training on CJW](https://www.hydroshare.org/resource/d2c6618090f34ee898e005969b99cf90/)"
   ]
  },
  {
   "cell_type": "code",
   "execution_count": null,
   "id": "526f5c54-e61e-4196-8022-378d2fd03f3a",
   "metadata": {},
   "outputs": [],
   "source": [
    "import xarray as xr\n",
    "chanobs = xr.open_mfdataset('{}/Simulation/*CHANOBS*'.format(cybergis.recentDownloadPath),\n",
    "                            combine='by_coords')"
   ]
  },
  {
   "cell_type": "code",
   "execution_count": null,
   "id": "124e6048-f21c-4420-b222-98233f3df05c",
   "metadata": {},
   "outputs": [],
   "source": [
    "chanobs.sel(feature_id = 2).streamflow.plot()"
   ]
  },
  {
   "cell_type": "markdown",
   "id": "8b083c28-5e5c-4a7f-a795-2c459d13b388",
   "metadata": {},
   "source": [
    "## Done"
   ]
  }
 ],
 "metadata": {
  "kernelspec": {
   "display_name": "WRFHydro-2022-03",
   "language": "python",
   "name": "wrfhydro-2022-03"
  },
  "language_info": {
   "codemirror_mode": {
    "name": "ipython",
    "version": 3
   },
   "file_extension": ".py",
   "mimetype": "text/x-python",
   "name": "python",
   "nbconvert_exporter": "python",
   "pygments_lexer": "ipython3",
   "version": "3.7.9"
  }
 },
 "nbformat": 4,
 "nbformat_minor": 5
}
