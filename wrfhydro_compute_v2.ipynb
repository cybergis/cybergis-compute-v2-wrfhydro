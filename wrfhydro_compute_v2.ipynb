{
 "cells": [
  {
   "cell_type": "markdown",
   "id": "5215e8a8-e497-4a0f-8ee1-877e5df85a88",
   "metadata": {
    "tags": []
   },
   "source": [
    "# Run WRFHydro model on HPC resources using CyberGIS-Compute V2"
   ]
  },
  {
   "cell_type": "markdown",
   "id": "503439ee-a277-4b46-a152-1f853f2f9aed",
   "metadata": {},
   "source": [
    "This notebook demonstrates how to prepare a WRFHydro model on CyberGIS-Jupyter for Water (CJW) for execution on a supported High-Performance Computing (HPC) resource via the CyberGIS-Compute service. First-time users are highly encouraged to go through the [NCAR WRFHydro Hands-on Training on CJW](https://www.hydroshare.org/resource/d2c6618090f34ee898e005969b99cf90/) to get familiar WRFHydro model basics including compilation of source code, preparation of forcing data and typical model configurations. This notebook will not cover those topics and assume users already have hands-on experience with local model runs.\n",
    "\n",
    "CyberGIS-Compute is a CyberGIS-enabled web service sits between CJW and HPC resources. It acts as a middleman that takes user requests (eg. submission of a model) originated from CJW, carries out the actual job submission of model on the target HPC resource, monitors job status, and retrieves outputs when the model execution has completed. The functionality of CyberGIS-Compute is exposed as a series of REST APIs. A Python client, [CyberGIS-Compute SDK](https://github.com/cybergis/cybergis-compute-python-sdk), has been developed for use in the CJW environment that provides a simple GUI to guide users through the job submission process. Prior to job submission, model configuration and input data should be prepared and arranged in a certain way that meets the model-specific requirements, which vary by models and their implementation in CyberGIS-Compute. We will walk through the requirements for WRFHydro below.\n",
    "\n",
    "Current support for WRFHydro in CyberGIS-Compute is compatible with WRFHydro 5.x official releases from the NCAR repo (https://github.com/NCAR/wrf_hydro_nwm_public), and requires users to provide parameters & data in 3 categories: **compile-time configuration, run-time configuration, and model data**. The following table lists details for each category.\n",
    "\n",
    "| Category   |      Parameter/Data     | Required|  Comments | Submission|\n",
    "|:----------|-------------:|:-----:|------:|--:|\n",
    "| Compile-Time |  Model_Version (string) | Y |release, tag, branch, commit id from [WRFHydro official repo](https://github.com/NCAR/wrf_hydro_nwm_public) | GUI or API |\n",
    "| Compile-Time |   \"setEnvar.sh\" (file)          | Y |[example \"setEnvar.sh\"](https://github.com/NCAR/wrf_hydro_nwm_public/blob/refs/tags/v5.2.0/trunk/NDHMS/template/setEnvar.sh)  | Upload |\n",
    "| Compile-Time |   LSM_Type  (string)      |   Y |\"NoahMP\" (default) or \"Noah\" | GUI or API |\n",
    "| Run-Time |  \"namelist.hrldas\" (file) |   Y | [example \"namelist.hrldas\" for LSM_Type=\"NoahMP\"](https://github.com/NCAR/wrf_hydro_nwm_public/blob/refs/tags/v5.2.0/trunk/NDHMS/template/NoahMP/namelist.hrldas) | Upload|\n",
    "| Run-Time |  \"hydro.namelist\" (file) |   Y | [example \"hydro.namelist\"](https://github.com/NCAR/wrf_hydro_nwm_public/blob/refs/tags/v5.2.0/trunk/NDHMS/template/HYDRO/hydro.namelist) |Upload|\n",
    "| Model Data | \"DOMAIN\" (folder)|  Y | contain domain files | Upload |\n",
    "| Model Data | \"FORCING\" (folder) |  Y | contain forcing files | Upload|\n",
    "| Model Data | \"RESTART\" (folder)|  N | contain restart files | Upload|\n",
    "\n",
    "Since WRFHydro codebase has been under active development, \"mix-match\" parameters or data from different releases may cause tricky issues or model failure. For example, the file 'namelist.hrldas' from version A may not work with WRFHydro version B. **It is user's responbisibity to make sure the parameter and data provided are compatible with the chosen Model_Version.**\n",
    "\n",
    "We will use the official testcase (Croton, NY) shipped with WRFHydro v5.2.0 release (https://github.com/NCAR/wrf_hydro_nwm_public/releases/tag/v5.2.0) to walk you through.\n",
    "\n",
    "![WFHydro Official Release v5.2.0](statics/release_v520.png)\n",
    "FYI: The support for WRFHydro model in CyberGIS-Compute is added through the \"community contribution\" appoarch (introduced in CyberGIS-Compute V2), and the implementation can be accessible at https://github.com/cybergis/cybergis-compute-v2-wrfhydro. This work is based on a close collabration between the [CyberGIS Center](https://cybergis.illinois.edu/) at UIUC and [Dr. Ayman Nassar](https://uwrl.usu.edu/people/research-staff/nassar-ayman) at Utah Water Research Laboratory, USU under the [HydroShare](https://www.hydroshare.org/) project."
   ]
  },
  {
   "cell_type": "markdown",
   "id": "ad0e1628-5be8-45bc-99e4-b552574cb3fd",
   "metadata": {},
   "source": [
    "## Setup workspace"
   ]
  },
  {
   "cell_type": "code",
   "execution_count": null,
   "id": "338171b7-1cb5-4711-9f93-2a09e8762f41",
   "metadata": {},
   "outputs": [],
   "source": [
    "scratch_folder = \"./scratch\"\n",
    "upload_folder = \"./upload2hpc\""
   ]
  },
  {
   "cell_type": "code",
   "execution_count": null,
   "id": "efff1def-98e5-4d54-a557-80d2693f6c6d",
   "metadata": {},
   "outputs": [],
   "source": [
    "!rm -rf {scratch_folder} && mkdir -p {scratch_folder}\n",
    "!rm -rf {upload_folder} && mkdir -p {upload_folder}"
   ]
  },
  {
   "cell_type": "markdown",
   "id": "92044b47-df19-40d1-9db0-192fc8edcd41",
   "metadata": {},
   "source": [
    "## Compile-Time configuration (Model_Version) & Retrieve WRFHydro Codebase v5.2.0"
   ]
  },
  {
   "cell_type": "code",
   "execution_count": null,
   "id": "063235d8-267a-4ac8-aa7f-ca245b98fc73",
   "metadata": {},
   "outputs": [],
   "source": [
    "!rm -rf {scratch_folder}/wrf_hydro_nwm_public\n",
    "!git clone -b v5.2.0 https://github.com/NCAR/wrf_hydro_nwm_public.git {scratch_folder}/wrf_hydro_nwm_public"
   ]
  },
  {
   "cell_type": "markdown",
   "id": "2ebc35ec-5100-42a0-96cb-9f44ac94afe6",
   "metadata": {},
   "source": [
    "## Compile-Time configuration (\"setEnvar.sh\")"
   ]
  },
  {
   "cell_type": "code",
   "execution_count": null,
   "id": "e389882d-7fec-4bfa-b834-a01d09e31ecd",
   "metadata": {},
   "outputs": [],
   "source": [
    "!cp -f {scratch_folder}/wrf_hydro_nwm_public/trunk/NDHMS/template/setEnvar.sh {upload_folder}\n",
    "!ls {upload_folder} -l"
   ]
  },
  {
   "cell_type": "code",
   "execution_count": null,
   "id": "8cc178ec-2dde-41fe-9d60-7cc04e016994",
   "metadata": {},
   "outputs": [],
   "source": [
    "!sed -i 's/HYDRO_D=0/HYDRO_D=1/'  {upload_folder}/setEnvar.sh\n",
    "!sed -i 's/SPATIAL_SOIL=0/SPATIAL_SOIL=1/' {upload_folder}/setEnvar.sh\n",
    "!cat {upload_folder}/setEnvar.sh"
   ]
  },
  {
   "cell_type": "markdown",
   "id": "f2a3f6e9-52e4-4f2d-b28c-ed0829fa83ac",
   "metadata": {},
   "source": [
    "## Retrieve test case (Cronton,NY)"
   ]
  },
  {
   "cell_type": "code",
   "execution_count": null,
   "id": "a99aa3c1-0654-4b27-a0d3-f3ad1c9c7ffd",
   "metadata": {},
   "outputs": [],
   "source": [
    "!rm -rf {scratch_folder}/*.tar.gz {scratch_folder}/example_case\n",
    "!wget https://github.com/NCAR/wrf_hydro_nwm_public/releases/download/v5.2.0/croton_NY_training_example_v5.2.tar.gz -P {scratch_folder}\n",
    "!cd {scratch_folder} && tar xzf croton_NY_training_example_v5.2.tar.gz"
   ]
  },
  {
   "cell_type": "markdown",
   "id": "285a5066-81ac-4cd8-bf20-9652553c30de",
   "metadata": {},
   "source": [
    "## Run-Time configurations (\"namelist.hrldas\", \"hydro.namelist\") and Model Data (\"Domain\", \"RESTART\")"
   ]
  },
  {
   "cell_type": "code",
   "execution_count": null,
   "id": "f9ed243d-f383-4c62-9094-412f351edc60",
   "metadata": {},
   "outputs": [],
   "source": [
    "!ls {scratch_folder}/example_case/Gridded -l"
   ]
  },
  {
   "cell_type": "code",
   "execution_count": null,
   "id": "64edd796-ac93-4f02-9cd4-c29bc0e560d9",
   "metadata": {},
   "outputs": [],
   "source": [
    "!cp -rf {scratch_folder}/example_case/Gridded/* {upload_folder}\n",
    "!ls {upload_folder} -l"
   ]
  },
  {
   "cell_type": "markdown",
   "id": "bae55a4e-94d1-46f0-9047-74cb131296d5",
   "metadata": {},
   "source": [
    "## Model Data (\"Forcings\")"
   ]
  },
  {
   "cell_type": "code",
   "execution_count": null,
   "id": "10eb3b0c-1cf6-4e00-93e7-7e3597e17b12",
   "metadata": {},
   "outputs": [],
   "source": [
    "!cp -rf {scratch_folder}/example_case/FORCING {upload_folder}\n",
    "!ls {upload_folder} -l"
   ]
  },
  {
   "cell_type": "markdown",
   "id": "1240c3e0-742c-4f74-9a4c-e6738856a5c2",
   "metadata": {},
   "source": [
    "## Job Submission"
   ]
  },
  {
   "cell_type": "code",
   "execution_count": null,
   "id": "d82f51ae-e914-4e5d-a250-640e14da85fe",
   "metadata": {},
   "outputs": [],
   "source": [
    "from cybergis_compute_client import CyberGISCompute\n",
    "cybergis = CyberGISCompute(url=\"cgjobsup-dev.cigi.illinois.edu\", isJupyter=True, protocol=\"HTTPS\", port=443, suffix=\"v2\")"
   ]
  },
  {
   "cell_type": "code",
   "execution_count": null,
   "id": "ba319853-6d4f-4bf8-8d36-7c500ab6194e",
   "metadata": {},
   "outputs": [],
   "source": [
    "cybergis.create_job_by_ui(defaultJob=\"wrfhydro-5.x\", defaultDataFolder=upload_folder)"
   ]
  },
  {
   "cell_type": "markdown",
   "id": "0dfca0bb-1952-49e5-ab0d-223f83730f8d",
   "metadata": {},
   "source": [
    "## Check out model outputs"
   ]
  },
  {
   "cell_type": "code",
   "execution_count": null,
   "id": "c71da212-4d85-4083-9bba-f7003b45634d",
   "metadata": {},
   "outputs": [],
   "source": [
    "!echo {cybergis.recentDownloadPath}/Simulation"
   ]
  },
  {
   "cell_type": "code",
   "execution_count": null,
   "id": "cd9c843e-5201-415e-b19f-5fed8dff2ec8",
   "metadata": {
    "scrolled": true,
    "tags": []
   },
   "outputs": [],
   "source": [
    "!ls {cybergis.recentDownloadPath}/Simulation"
   ]
  },
  {
   "cell_type": "markdown",
   "id": "d350b5f4-b9dc-43e4-9127-33a6cc1d69f1",
   "metadata": {},
   "source": [
    "## Visualization"
   ]
  },
  {
   "cell_type": "code",
   "execution_count": null,
   "id": "526f5c54-e61e-4196-8022-378d2fd03f3a",
   "metadata": {},
   "outputs": [],
   "source": [
    "import xarray as xr\n",
    "chanobs = xr.open_mfdataset('{}/Simulation/*CHANOBS*'.format(cybergis.recentDownloadPath),\n",
    "                            combine='by_coords')"
   ]
  },
  {
   "cell_type": "code",
   "execution_count": null,
   "id": "124e6048-f21c-4420-b222-98233f3df05c",
   "metadata": {},
   "outputs": [],
   "source": [
    "chanobs.sel(feature_id = 2).streamflow.plot()"
   ]
  },
  {
   "cell_type": "code",
   "execution_count": null,
   "id": "4f297ae6-f413-434c-a40e-adb6ff29559e",
   "metadata": {},
   "outputs": [],
   "source": []
  },
  {
   "cell_type": "code",
   "execution_count": null,
   "id": "f0c89251-320c-4860-84bf-58c9e735206d",
   "metadata": {},
   "outputs": [],
   "source": []
  },
  {
   "cell_type": "markdown",
   "id": "8b083c28-5e5c-4a7f-a795-2c459d13b388",
   "metadata": {},
   "source": [
    "#### Done"
   ]
  },
  {
   "cell_type": "code",
   "execution_count": null,
   "id": "e7be9461-2428-48a4-8cd4-6db9cd0c0e9f",
   "metadata": {},
   "outputs": [],
   "source": []
  }
 ],
 "metadata": {
  "kernelspec": {
   "display_name": "WRFHydro-2022-03",
   "language": "python",
   "name": "wrfhydro-2022-03"
  },
  "language_info": {
   "codemirror_mode": {
    "name": "ipython",
    "version": 3
   },
   "file_extension": ".py",
   "mimetype": "text/x-python",
   "name": "python",
   "nbconvert_exporter": "python",
   "pygments_lexer": "ipython3",
   "version": "3.7.9"
  }
 },
 "nbformat": 4,
 "nbformat_minor": 5
}
